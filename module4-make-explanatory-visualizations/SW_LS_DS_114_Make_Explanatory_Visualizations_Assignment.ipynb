{
  "nbformat": 4,
  "nbformat_minor": 0,
  "metadata": {
    "colab": {
      "name": "SW LS_DS_114_Make_Explanatory_Visualizations_Assignment.ipynb",
      "provenance": [],
      "collapsed_sections": [],
      "include_colab_link": true
    },
    "language_info": {
      "codemirror_mode": {
        "name": "ipython",
        "version": 3
      },
      "file_extension": ".py",
      "mimetype": "text/x-python",
      "name": "python",
      "nbconvert_exporter": "python",
      "pygments_lexer": "ipython3",
      "version": "3.7.1"
    },
    "kernelspec": {
      "display_name": "Python 3",
      "language": "python",
      "name": "python3"
    }
  },
  "cells": [
    {
      "cell_type": "markdown",
      "metadata": {
        "id": "view-in-github",
        "colab_type": "text"
      },
      "source": [
        "<a href=\"https://colab.research.google.com/github/SaraWestWA/DS-Unit-1-Sprint-1-Data-Wrangling-and-Storytelling/blob/master/module4-make-explanatory-visualizations/SW_LS_DS_114_Make_Explanatory_Visualizations_Assignment.ipynb\" target=\"_parent\"><img src=\"https://colab.research.google.com/assets/colab-badge.svg\" alt=\"Open In Colab\"/></a>"
      ]
    },
    {
      "cell_type": "markdown",
      "metadata": {
        "colab_type": "text",
        "id": "NMEswXWh9mqw"
      },
      "source": [
        "Lambda School Data Science\n",
        "\n",
        "*Unit 1, Sprint 1, Module 4*\n",
        "\n",
        "---\n",
        "\n",
        "# ASSIGNMENT\n",
        "\n",
        "### 1) Replicate the lesson code. I recommend that you [do not copy-paste](https://docs.google.com/document/d/1ubOw9B3Hfip27hF2ZFnW3a3z9xAgrUDRReOEo-FHCVs/edit).\n",
        "\n",
        "Get caught up to where we got our example in class and then try and take things further. How close to \"pixel perfect\" can you make the lecture graph?\n",
        "\n",
        "Once you have something that you're proud of, share your graph in the cohort channel and move on to the second exercise.\n",
        "\n",
        "### 2) Reproduce another example from [FiveThityEight's shared data repository](https://data.fivethirtyeight.com/).\n",
        "\n",
        "**WARNING**: There are a lot of very custom graphs and tables at the above link. I **highly** recommend not trying to reproduce any that look like a table of values or something really different from the graph types that we are already familiar with. Search through the posts until you find a graph type that you are more or less familiar with: histogram, bar chart, stacked bar chart, line chart, [seaborn relplot](https://seaborn.pydata.org/generated/seaborn.relplot.html), etc. Recreating some of the graphics that 538 uses would be a lot easier in Adobe photoshop/illustrator than with matplotlib. \n",
        "\n",
        "- If you put in some time to find a graph that looks \"easy\" to replicate you'll probably find that it's not as easy as you thought. \n",
        "\n",
        "- If you start with a graph that looks hard to replicate you'll probably run up against a brick wall and be disappointed with your afternoon.\n",
        "\n",
        "\n",
        "\n",
        "\n",
        "\n",
        "\n",
        "\n",
        "\n",
        "\n",
        "\n"
      ]
    },
    {
      "cell_type": "code",
      "metadata": {
        "id": "7SY1ZHawyZvz",
        "colab_type": "code",
        "colab": {
          "base_uri": "https://localhost:8080/",
          "height": 52
        },
        "outputId": "7be639b2-cfe6-430d-86f3-6427a62451ba"
      },
      "source": [
        "# Imports\n",
        "import pandas as pd\n",
        "import numpy as np\n",
        "import matplotlib.pyplot as plt\n",
        "import seaborn as sns\n"
      ],
      "execution_count": 5,
      "outputs": [
        {
          "output_type": "stream",
          "text": [
            "/usr/local/lib/python3.6/dist-packages/statsmodels/tools/_testing.py:19: FutureWarning: pandas.util.testing is deprecated. Use the functions in the public API at pandas.testing instead.\n",
            "  import pandas.util.testing as tm\n"
          ],
          "name": "stderr"
        }
      ]
    },
    {
      "cell_type": "code",
      "metadata": {
        "id": "oXlHdfXmOKX6",
        "colab_type": "code",
        "colab": {
          "base_uri": "https://localhost:8080/",
          "height": 479
        },
        "outputId": "2dbcb8f9-d384-4bcc-9c6e-114fa122502d"
      },
      "source": [
        "# See avialable plot styles\n",
        "plt.style.available\n"
      ],
      "execution_count": 6,
      "outputs": [
        {
          "output_type": "execute_result",
          "data": {
            "text/plain": [
              "['Solarize_Light2',\n",
              " '_classic_test_patch',\n",
              " 'bmh',\n",
              " 'classic',\n",
              " 'dark_background',\n",
              " 'fast',\n",
              " 'fivethirtyeight',\n",
              " 'ggplot',\n",
              " 'grayscale',\n",
              " 'seaborn',\n",
              " 'seaborn-bright',\n",
              " 'seaborn-colorblind',\n",
              " 'seaborn-dark',\n",
              " 'seaborn-dark-palette',\n",
              " 'seaborn-darkgrid',\n",
              " 'seaborn-deep',\n",
              " 'seaborn-muted',\n",
              " 'seaborn-notebook',\n",
              " 'seaborn-paper',\n",
              " 'seaborn-pastel',\n",
              " 'seaborn-poster',\n",
              " 'seaborn-talk',\n",
              " 'seaborn-ticks',\n",
              " 'seaborn-white',\n",
              " 'seaborn-whitegrid',\n",
              " 'tableau-colorblind10']"
            ]
          },
          "metadata": {
            "tags": []
          },
          "execution_count": 6
        }
      ]
    },
    {
      "cell_type": "code",
      "metadata": {
        "id": "DcLcfT49OKaP",
        "colab_type": "code",
        "colab": {}
      },
      "source": [
        "# \"fast\" is actually the default style, so you don't necessarily have to set it.\n",
        "# specify fast anyway\n",
        "plt.style.use('fast')"
      ],
      "execution_count": 0,
      "outputs": []
    },
    {
      "cell_type": "markdown",
      "metadata": {
        "id": "EjrS7jzjP7W8",
        "colab_type": "text"
      },
      "source": [
        ""
      ]
    },
    {
      "cell_type": "markdown",
      "metadata": {
        "id": "UZp-IG0bP84z",
        "colab_type": "text"
      },
      "source": [
        ""
      ]
    },
    {
      "cell_type": "markdown",
      "metadata": {
        "id": "NkuJUu4lQCsX",
        "colab_type": "text"
      },
      "source": [
        "# Pandas visualization\n",
        "Titanic Information"
      ]
    },
    {
      "cell_type": "code",
      "metadata": {
        "id": "iUP0DgIAOKcp",
        "colab_type": "code",
        "colab": {
          "base_uri": "https://localhost:8080/",
          "height": 194
        },
        "outputId": "9e947383-72b7-4c1a-bec5-b4ee2215c5e6"
      },
      "source": [
        "# Read in the titanic dataset\n",
        "url = 'https://raw.githubusercontent.com/austinlasseter/pandas_visualization/master/data/titanic.csv'\n",
        "# url = '/Users/austinlasseter/atelier/lambda/dspt4/scraps/pandas_visualization/data/titanic.csv'\n",
        "titanic = pd.read_csv(url)\n",
        "titanic.head()"
      ],
      "execution_count": 8,
      "outputs": [
        {
          "output_type": "execute_result",
          "data": {
            "text/html": [
              "<div>\n",
              "<style scoped>\n",
              "    .dataframe tbody tr th:only-of-type {\n",
              "        vertical-align: middle;\n",
              "    }\n",
              "\n",
              "    .dataframe tbody tr th {\n",
              "        vertical-align: top;\n",
              "    }\n",
              "\n",
              "    .dataframe thead th {\n",
              "        text-align: right;\n",
              "    }\n",
              "</style>\n",
              "<table border=\"1\" class=\"dataframe\">\n",
              "  <thead>\n",
              "    <tr style=\"text-align: right;\">\n",
              "      <th></th>\n",
              "      <th>Survived</th>\n",
              "      <th>Pclass</th>\n",
              "      <th>Sex</th>\n",
              "      <th>Age</th>\n",
              "      <th>Fare</th>\n",
              "      <th>Embarked</th>\n",
              "    </tr>\n",
              "  </thead>\n",
              "  <tbody>\n",
              "    <tr>\n",
              "      <th>0</th>\n",
              "      <td>0</td>\n",
              "      <td>3</td>\n",
              "      <td>male</td>\n",
              "      <td>22.0</td>\n",
              "      <td>7.2500</td>\n",
              "      <td>Southampton</td>\n",
              "    </tr>\n",
              "    <tr>\n",
              "      <th>1</th>\n",
              "      <td>1</td>\n",
              "      <td>1</td>\n",
              "      <td>female</td>\n",
              "      <td>38.0</td>\n",
              "      <td>71.2833</td>\n",
              "      <td>Cherbourg</td>\n",
              "    </tr>\n",
              "    <tr>\n",
              "      <th>2</th>\n",
              "      <td>1</td>\n",
              "      <td>3</td>\n",
              "      <td>female</td>\n",
              "      <td>26.0</td>\n",
              "      <td>7.9250</td>\n",
              "      <td>Southampton</td>\n",
              "    </tr>\n",
              "    <tr>\n",
              "      <th>3</th>\n",
              "      <td>1</td>\n",
              "      <td>1</td>\n",
              "      <td>female</td>\n",
              "      <td>35.0</td>\n",
              "      <td>53.1000</td>\n",
              "      <td>Southampton</td>\n",
              "    </tr>\n",
              "    <tr>\n",
              "      <th>4</th>\n",
              "      <td>0</td>\n",
              "      <td>3</td>\n",
              "      <td>male</td>\n",
              "      <td>35.0</td>\n",
              "      <td>8.0500</td>\n",
              "      <td>Southampton</td>\n",
              "    </tr>\n",
              "  </tbody>\n",
              "</table>\n",
              "</div>"
            ],
            "text/plain": [
              "   Survived  Pclass     Sex   Age     Fare     Embarked\n",
              "0         0       3    male  22.0   7.2500  Southampton\n",
              "1         1       1  female  38.0  71.2833    Cherbourg\n",
              "2         1       3  female  26.0   7.9250  Southampton\n",
              "3         1       1  female  35.0  53.1000  Southampton\n",
              "4         0       3    male  35.0   8.0500  Southampton"
            ]
          },
          "metadata": {
            "tags": []
          },
          "execution_count": 8
        }
      ]
    },
    {
      "cell_type": "code",
      "metadata": {
        "id": "YXeDuiBWTj3i",
        "colab_type": "code",
        "colab": {
          "base_uri": "https://localhost:8080/",
          "height": 88
        },
        "outputId": "aa65db12-89e3-4b66-8f02-95276b8a3bde"
      },
      "source": [
        "#see Pclass values\n",
        "titanic['Pclass'].value_counts().sort_index()"
      ],
      "execution_count": 9,
      "outputs": [
        {
          "output_type": "execute_result",
          "data": {
            "text/plain": [
              "1    184\n",
              "2    173\n",
              "3    355\n",
              "Name: Pclass, dtype: int64"
            ]
          },
          "metadata": {
            "tags": []
          },
          "execution_count": 9
        }
      ]
    },
    {
      "cell_type": "code",
      "metadata": {
        "id": "emNrPfepOKfF",
        "colab_type": "code",
        "colab": {
          "base_uri": "https://localhost:8080/",
          "height": 194
        },
        "outputId": "50cb4d6a-80e6-4fa3-afa4-5664823671e8"
      },
      "source": [
        "# cabin class is a categorical variable, replace with strings to look pretty\n",
        "# it can be displayed using either number or string values.\n",
        "titanic['cabin_class'] = titanic['Pclass'].map({1:'first', 2: 'second', 3: 'third'})\n",
        "titanic.sample(5)"
      ],
      "execution_count": 10,
      "outputs": [
        {
          "output_type": "execute_result",
          "data": {
            "text/html": [
              "<div>\n",
              "<style scoped>\n",
              "    .dataframe tbody tr th:only-of-type {\n",
              "        vertical-align: middle;\n",
              "    }\n",
              "\n",
              "    .dataframe tbody tr th {\n",
              "        vertical-align: top;\n",
              "    }\n",
              "\n",
              "    .dataframe thead th {\n",
              "        text-align: right;\n",
              "    }\n",
              "</style>\n",
              "<table border=\"1\" class=\"dataframe\">\n",
              "  <thead>\n",
              "    <tr style=\"text-align: right;\">\n",
              "      <th></th>\n",
              "      <th>Survived</th>\n",
              "      <th>Pclass</th>\n",
              "      <th>Sex</th>\n",
              "      <th>Age</th>\n",
              "      <th>Fare</th>\n",
              "      <th>Embarked</th>\n",
              "      <th>cabin_class</th>\n",
              "    </tr>\n",
              "  </thead>\n",
              "  <tbody>\n",
              "    <tr>\n",
              "      <th>505</th>\n",
              "      <td>0</td>\n",
              "      <td>3</td>\n",
              "      <td>male</td>\n",
              "      <td>20.0</td>\n",
              "      <td>7.8542</td>\n",
              "      <td>Southampton</td>\n",
              "      <td>third</td>\n",
              "    </tr>\n",
              "    <tr>\n",
              "      <th>670</th>\n",
              "      <td>1</td>\n",
              "      <td>1</td>\n",
              "      <td>female</td>\n",
              "      <td>30.0</td>\n",
              "      <td>31.0000</td>\n",
              "      <td>Cherbourg</td>\n",
              "      <td>first</td>\n",
              "    </tr>\n",
              "    <tr>\n",
              "      <th>346</th>\n",
              "      <td>0</td>\n",
              "      <td>1</td>\n",
              "      <td>male</td>\n",
              "      <td>50.0</td>\n",
              "      <td>55.9000</td>\n",
              "      <td>Southampton</td>\n",
              "      <td>first</td>\n",
              "    </tr>\n",
              "    <tr>\n",
              "      <th>551</th>\n",
              "      <td>0</td>\n",
              "      <td>3</td>\n",
              "      <td>male</td>\n",
              "      <td>44.0</td>\n",
              "      <td>8.0500</td>\n",
              "      <td>Southampton</td>\n",
              "      <td>third</td>\n",
              "    </tr>\n",
              "    <tr>\n",
              "      <th>422</th>\n",
              "      <td>0</td>\n",
              "      <td>3</td>\n",
              "      <td>female</td>\n",
              "      <td>30.0</td>\n",
              "      <td>8.6625</td>\n",
              "      <td>Southampton</td>\n",
              "      <td>third</td>\n",
              "    </tr>\n",
              "  </tbody>\n",
              "</table>\n",
              "</div>"
            ],
            "text/plain": [
              "     Survived  Pclass     Sex   Age     Fare     Embarked cabin_class\n",
              "505         0       3    male  20.0   7.8542  Southampton       third\n",
              "670         1       1  female  30.0  31.0000    Cherbourg       first\n",
              "346         0       1    male  50.0  55.9000  Southampton       first\n",
              "551         0       3    male  44.0   8.0500  Southampton       third\n",
              "422         0       3  female  30.0   8.6625  Southampton       third"
            ]
          },
          "metadata": {
            "tags": []
          },
          "execution_count": 10
        }
      ]
    },
    {
      "cell_type": "code",
      "metadata": {
        "id": "_XMVGj1ROKhN",
        "colab_type": "code",
        "colab": {
          "base_uri": "https://localhost:8080/",
          "height": 267
        },
        "outputId": "5ce45a7a-21f7-41bf-c9fc-2e8387dcd514"
      },
      "source": [
        "# Fare is a continuous variable, so we can display it with a histogram.\n",
        "titanic['Fare'].plot(kind='hist');"
      ],
      "execution_count": 11,
      "outputs": [
        {
          "output_type": "display_data",
          "data": {
            "image/png": "[encoded data removed]",
            "text/plain": [
              "<Figure size 432x288 with 1 Axes>"
            ]
          },
          "metadata": {
            "tags": [],
            "needs_background": "light"
          }
        }
      ]
    },
    {
      "cell_type": "code",
      "metadata": {
        "id": "nmLq0CzbUTqj",
        "colab_type": "code",
        "colab": {
          "base_uri": "https://localhost:8080/",
          "height": 35
        },
        "outputId": "acbc586d-c373-472d-ab63-b1d2e7bc08a8"
      },
      "source": [
        "print(titanic.shape)"
      ],
      "execution_count": 12,
      "outputs": [
        {
          "output_type": "stream",
          "text": [
            "(712, 7)\n"
          ],
          "name": "stdout"
        }
      ]
    },
    {
      "cell_type": "code",
      "metadata": {
        "id": "sUKpK3VeOKkI",
        "colab_type": "code",
        "colab": {
          "base_uri": "https://localhost:8080/",
          "height": 52
        },
        "outputId": "a25ce544-6d0a-47bb-a14b-f6c54508af18"
      },
      "source": [
        "# Outliers were removed\n",
        "titanicx = titanic[titanic['Fare']<500]\n",
        "print(titanicx.shape)\n",
        "\n",
        "titanicz = titanic[titanic['Fare']<200]\n",
        "titanicz.shape"
      ],
      "execution_count": 13,
      "outputs": [
        {
          "output_type": "stream",
          "text": [
            "(709, 7)\n"
          ],
          "name": "stdout"
        },
        {
          "output_type": "execute_result",
          "data": {
            "text/plain": [
              "(694, 7)"
            ]
          },
          "metadata": {
            "tags": []
          },
          "execution_count": 13
        }
      ]
    },
    {
      "cell_type": "code",
      "metadata": {
        "id": "1OMvKcxcOKmD",
        "colab_type": "code",
        "colab": {
          "base_uri": "https://localhost:8080/",
          "height": 268
        },
        "outputId": "3320ae33-5d01-4e40-88ac-72ffe9d1de01"
      },
      "source": [
        "#histograms with out outliers\n",
        "titanicz['Fare'].plot(kind='hist', color = 'skyblue', bins=70);"
      ],
      "execution_count": 14,
      "outputs": [
        {
          "output_type": "display_data",
          "data": {
            "image/png": "[encoded data removed]",
            "text/plain": [
              "<Figure size 432x288 with 1 Axes>"
            ]
          },
          "metadata": {
            "tags": [],
            "needs_background": "light"
          }
        }
      ]
    },
    {
      "cell_type": "code",
      "metadata": {
        "id": "P40Od3V6OKok",
        "colab_type": "code",
        "colab": {
          "base_uri": "https://localhost:8080/",
          "height": 532
        },
        "outputId": "5cd50dcc-9182-4b66-e9a7-473b9a433d5e"
      },
      "source": [
        "# statistical data, compare with and without outliers\n",
        "print(titanic['Fare'].describe())\n",
        "print('')\n",
        "print(titanicx['Fare'].describe())\n",
        "print('')\n",
        "titanicz['Fare'].describe()"
      ],
      "execution_count": 15,
      "outputs": [
        {
          "output_type": "stream",
          "text": [
            "count    712.000000\n",
            "mean      34.567251\n",
            "std       52.938648\n",
            "min        0.000000\n",
            "25%        8.050000\n",
            "50%       15.645850\n",
            "75%       33.000000\n",
            "max      512.329200\n",
            "Name: Fare, dtype: float64\n",
            "\n",
            "count    709.000000\n",
            "mean      32.545692\n",
            "std       42.931277\n",
            "min        0.000000\n",
            "25%        8.050000\n",
            "50%       15.500000\n",
            "75%       32.320800\n",
            "max      263.000000\n",
            "Name: Fare, dtype: float64\n",
            "\n"
          ],
          "name": "stdout"
        },
        {
          "output_type": "execute_result",
          "data": {
            "text/plain": [
              "count    694.000000\n",
              "mean      28.061983\n",
              "std       30.353275\n",
              "min        0.000000\n",
              "25%        8.050000\n",
              "50%       14.500000\n",
              "75%       31.206250\n",
              "max      164.866700\n",
              "Name: Fare, dtype: float64"
            ]
          },
          "metadata": {
            "tags": []
          },
          "execution_count": 15
        }
      ]
    },
    {
      "cell_type": "code",
      "metadata": {
        "id": "_2FU6ftMOKq_",
        "colab_type": "code",
        "colab": {
          "base_uri": "https://localhost:8080/",
          "height": 194
        },
        "outputId": "3611d9ad-a2a4-48bd-c337-aeac6a6da93f"
      },
      "source": [
        "# Binning can be used to change a continuous variable to catagorical\n",
        "# 18 of 712 fares were over $200, that is about 2.5%\n",
        "farelabels= ['vlow','low', 'medium', 'high', 'vhigh']\n",
        "titanic['fare_groups']= pd.cut(titanic['Fare'], bins=[0,8,15,31,200, 600], labels= farelabels)\n",
        "titanic[['Fare', 'fare_groups']].head()"
      ],
      "execution_count": 16,
      "outputs": [
        {
          "output_type": "execute_result",
          "data": {
            "text/html": [
              "<div>\n",
              "<style scoped>\n",
              "    .dataframe tbody tr th:only-of-type {\n",
              "        vertical-align: middle;\n",
              "    }\n",
              "\n",
              "    .dataframe tbody tr th {\n",
              "        vertical-align: top;\n",
              "    }\n",
              "\n",
              "    .dataframe thead th {\n",
              "        text-align: right;\n",
              "    }\n",
              "</style>\n",
              "<table border=\"1\" class=\"dataframe\">\n",
              "  <thead>\n",
              "    <tr style=\"text-align: right;\">\n",
              "      <th></th>\n",
              "      <th>Fare</th>\n",
              "      <th>fare_groups</th>\n",
              "    </tr>\n",
              "  </thead>\n",
              "  <tbody>\n",
              "    <tr>\n",
              "      <th>0</th>\n",
              "      <td>7.2500</td>\n",
              "      <td>vlow</td>\n",
              "    </tr>\n",
              "    <tr>\n",
              "      <th>1</th>\n",
              "      <td>71.2833</td>\n",
              "      <td>high</td>\n",
              "    </tr>\n",
              "    <tr>\n",
              "      <th>2</th>\n",
              "      <td>7.9250</td>\n",
              "      <td>vlow</td>\n",
              "    </tr>\n",
              "    <tr>\n",
              "      <th>3</th>\n",
              "      <td>53.1000</td>\n",
              "      <td>high</td>\n",
              "    </tr>\n",
              "    <tr>\n",
              "      <th>4</th>\n",
              "      <td>8.0500</td>\n",
              "      <td>low</td>\n",
              "    </tr>\n",
              "  </tbody>\n",
              "</table>\n",
              "</div>"
            ],
            "text/plain": [
              "      Fare fare_groups\n",
              "0   7.2500        vlow\n",
              "1  71.2833        high\n",
              "2   7.9250        vlow\n",
              "3  53.1000        high\n",
              "4   8.0500         low"
            ]
          },
          "metadata": {
            "tags": []
          },
          "execution_count": 16
        }
      ]
    },
    {
      "cell_type": "code",
      "metadata": {
        "id": "fMdh6BT7OKtI",
        "colab_type": "code",
        "colab": {
          "base_uri": "https://localhost:8080/",
          "height": 124
        },
        "outputId": "3b2aaca1-5d58-4f4d-d8dc-e1f4c04ebd17"
      },
      "source": [
        "#verify results contain all fares\n",
        "fare_results = titanic['fare_groups'].value_counts().sort_index()\n",
        "fare_results"
      ],
      "execution_count": 17,
      "outputs": [
        {
          "output_type": "execute_result",
          "data": {
            "text/plain": [
              "vlow      154\n",
              "low       189\n",
              "medium    170\n",
              "high      174\n",
              "vhigh      18\n",
              "Name: fare_groups, dtype: int64"
            ]
          },
          "metadata": {
            "tags": []
          },
          "execution_count": 17
        }
      ]
    },
    {
      "cell_type": "code",
      "metadata": {
        "id": "hB4-TvqMOKvl",
        "colab_type": "code",
        "colab": {
          "base_uri": "https://localhost:8080/",
          "height": 334
        },
        "outputId": "60444092-4e5c-4fe9-c60a-cd0c94c82aaf"
      },
      "source": [
        "#plot of fares\n",
        "fare_results.plot(kind='bar', color='lavender');\n",
        "\"\"\"\n",
        "Including the 5th catagory makes more sense to me\n",
        "than leaving out the outliers entirely, but the\n",
        "bin from $31-$200 seems like a very broad range\n",
        "compared to the two lower ranges. To me it would\n",
        "almost be better to add a 6th column with fares\n",
        "$31-$100 & $100-$200. However, is there a reason\n",
        "to split out be quartiles?\n",
        "\"\"\"\n"
      ],
      "execution_count": 18,
      "outputs": [
        {
          "output_type": "execute_result",
          "data": {
            "text/plain": [
              "'\\nIncluding the 5th catagory makes more sense to me\\nthan leaving out the outliers entirely, but the\\nbin from $31-$200 seems like a very broad range\\ncompared to the two lower ranges. To me it would\\nalmost be better to add a 6th column with fares\\n$31-$100 & $100-$200. However, is there a reason\\nto split out be quartiles?\\n'"
            ]
          },
          "metadata": {
            "tags": []
          },
          "execution_count": 18
        },
        {
          "output_type": "display_data",
          "data": {
            "image/png": "[encoded data removed]",
            "text/plain": [
              "<Figure size 432x288 with 1 Axes>"
            ]
          },
          "metadata": {
            "tags": [],
            "needs_background": "light"
          }
        }
      ]
    },
    {
      "cell_type": "code",
      "metadata": {
        "id": "b-32gS_FOKyX",
        "colab_type": "code",
        "colab": {
          "base_uri": "https://localhost:8080/",
          "height": 35
        },
        "outputId": "61a40e5a-ea6e-4984-ce96-fb802b535d98"
      },
      "source": [
        "#look at number of fares $100-$199; 30 fares\n",
        "# 4.2%\n",
        "titanicb = titanic[titanic['Fare']<100]\n",
        "titanicb.shape"
      ],
      "execution_count": 40,
      "outputs": [
        {
          "output_type": "execute_result",
          "data": {
            "text/plain": [
              "(664, 8)"
            ]
          },
          "metadata": {
            "tags": []
          },
          "execution_count": 40
        }
      ]
    },
    {
      "cell_type": "markdown",
      "metadata": {
        "id": "spo4cjqI6F6W",
        "colab_type": "text"
      },
      "source": [
        ""
      ]
    },
    {
      "cell_type": "code",
      "metadata": {
        "id": "jO3L9vl_OK0Q",
        "colab_type": "code",
        "colab": {}
      },
      "source": [
        ""
      ],
      "execution_count": 0,
      "outputs": []
    },
    {
      "cell_type": "markdown",
      "metadata": {
        "id": "o6Y-iAfH6G2Z",
        "colab_type": "text"
      },
      "source": [
        "#Moving on to the meat of the assignment\n",
        "\n",
        "### 2) Reproduce another example from [FiveThityEight's shared data repository](https://data.fivethirtyeight.com/).\n",
        "\n",
        "**WARNING**: There are a lot of very custom graphs and tables at the above link. I **highly** recommend not trying to reproduce any that look like a table of values or something really different from the graph types that we are already familiar with. Search through the posts until you find a graph type that you are more or less familiar with: histogram, bar chart, stacked bar chart, line chart, [seaborn relplot](https://seaborn.pydata.org/generated/seaborn.relplot.html), etc. Recreating some of the graphics that 538 uses would be a lot easier in Adobe photoshop/illustrator than with matplotlib. \n",
        "\n",
        "- If you put in some time to find a graph that looks \"easy\" to replicate you'll probably find that it's not as easy as you thought. \n",
        "\n",
        "- If you start with a graph that looks hard to replicate you'll probably run up against a brick wall and be disappointed with your afternoon."
      ]
    },
    {
      "cell_type": "markdown",
      "metadata": {
        "id": "gLwJje58_n69",
        "colab_type": "text"
      },
      "source": [
        ""
      ]
    },
    {
      "cell_type": "code",
      "metadata": {
        "id": "3Wume_8r6b5u",
        "colab_type": "code",
        "colab": {
          "base_uri": "https://localhost:8080/",
          "height": 126
        },
        "outputId": "72b50fc0-84b2-4109-d680-5f8abde7982c"
      },
      "source": [
        "#Every guest John Stewart ever had on 'The Daily Show'\n",
        "\n",
        "\n",
        "\n",
        "\n",
        "from google.colab import drive\n",
        "drive.mount('/content/drive')\n",
        "\n",
        "# #gives a new name filename.csv\n",
        "# # df=pd.read_csv('filename.csv')\n"
      ],
      "execution_count": 1,
      "outputs": [
        {
          "output_type": "stream",
          "text": [
            "Go to this URL in a browser: https://accounts.google.com/o/oauth2/auth?client_id=947318989803-6bn6qk8qdgf4n4g3pfee6491hc0brc4i.apps.googleusercontent.com&redirect_uri=urn%3aietf%3awg%3aoauth%3a2.0%3aoob&response_type=code&scope=email%20https%3a%2f%2fwww.googleapis.com%2fauth%2fdocs.test%20https%3a%2f%2fwww.googleapis.com%2fauth%2fdrive%20https%3a%2f%2fwww.googleapis.com%2fauth%2fdrive.photos.readonly%20https%3a%2f%2fwww.googleapis.com%2fauth%2fpeopleapi.readonly\n",
            "\n",
            "Enter your authorization code:\n",
            "··········\n",
            "Mounted at /content/drive\n"
          ],
          "name": "stdout"
        }
      ]
    },
    {
      "cell_type": "code",
      "metadata": {
        "id": "x8hUECB5OLCx",
        "colab_type": "code",
        "colab": {}
      },
      "source": [
        "# set up table style\n",
        "plt.style.use('fivethirtyeight')\n"
      ],
      "execution_count": 0,
      "outputs": []
    },
    {
      "cell_type": "code",
      "metadata": {
        "id": "X8Ww99I3OK_8",
        "colab_type": "code",
        "outputId": "81770046-290d-4449-a304-8aa434476a5e",
        "colab": {
          "base_uri": "https://localhost:8080/",
          "height": 331
        }
      },
      "source": [
        "from IPython.display import display, Image\n",
        "\n",
        "url = 'https://fivethirtyeight.com/wp-content/uploads/2015/08/hickey-datalab-dailyshow.png?w=575'\n",
        "example = Image(url=url, width=400)\n",
        "\n",
        "display(example)"
      ],
      "execution_count": 0,
      "outputs": [
        {
          "output_type": "display_data",
          "data": {
            "text/html": [
              "<img src=\"https://fivethirtyeight.com/wp-content/uploads/2015/08/hickey-datalab-dailyshow.png?w=575\" width=\"400\"/>"
            ],
            "text/plain": [
              "<IPython.core.display.Image object>"
            ]
          },
          "metadata": {
            "tags": []
          }
        }
      ]
    },
    {
      "cell_type": "code",
      "metadata": {
        "id": "D0zvJmWmOK3F",
        "colab_type": "code",
        "colab": {
          "base_uri": "https://localhost:8080/",
          "height": 301
        },
        "outputId": "7de156bf-6e95-4cd1-8470-f054ab5602a1"
      },
      "source": [
        "#make fake data, one line\n",
        "fake_acm =[90,75,74,63,59,42,41,40,25,22,21,33,48,46,49]\n",
        "fake = pd.Series(fake_acm,index=range(1999,2014))\n",
        "fake"
      ],
      "execution_count": 34,
      "outputs": [
        {
          "output_type": "execute_result",
          "data": {
            "text/plain": [
              "1999    90\n",
              "2000    75\n",
              "2001    74\n",
              "2002    63\n",
              "2003    59\n",
              "2004    42\n",
              "2005    41\n",
              "2006    40\n",
              "2007    25\n",
              "2008    22\n",
              "2009    21\n",
              "2010    33\n",
              "2011    48\n",
              "2012    46\n",
              "2013    49\n",
              "dtype: int64"
            ]
          },
          "metadata": {
            "tags": []
          },
          "execution_count": 34
        }
      ]
    },
    {
      "cell_type": "code",
      "metadata": {
        "id": "C7nSn7IOOKWD",
        "colab_type": "code",
        "colab": {
          "base_uri": "https://localhost:8080/",
          "height": 282
        },
        "outputId": "d081472c-5c76-4521-d18f-1eceba746cc1"
      },
      "source": [
        "# display as a line graph\n",
        "fake.plot.line(color='dodgerblue');"
      ],
      "execution_count": 37,
      "outputs": [
        {
          "output_type": "display_data",
          "data": {
            "image/png": "[encoded data removed]",
            "text/plain": [
              "<Figure size 432x288 with 1 Axes>"
            ]
          },
          "metadata": {
            "tags": []
          }
        }
      ]
    },
    {
      "cell_type": "code",
      "metadata": {
        "id": "sHzoT6h6ybeG",
        "colab_type": "code",
        "colab": {
          "base_uri": "https://localhost:8080/",
          "height": 332
        },
        "outputId": "05b5f635-00ac-42f6-8910-cedf15ae5e19"
      },
      "source": [
        "display(example)"
      ],
      "execution_count": 39,
      "outputs": [
        {
          "output_type": "display_data",
          "data": {
            "text/html": [
              "<img src=\"https://fivethirtyeight.com/wp-content/uploads/2015/08/hickey-datalab-dailyshow.png?w=575\" width=\"400\"/>"
            ],
            "text/plain": [
              "<IPython.core.display.Image object>"
            ]
          },
          "metadata": {
            "tags": []
          }
        }
      ]
    },
    {
      "cell_type": "code",
      "metadata": {
        "id": "Qco1n37rybjQ",
        "colab_type": "code",
        "colab": {
          "base_uri": "https://localhost:8080/",
          "height": 604
        },
        "outputId": "53faf630-574e-4601-a8e0-23d12339f276"
      },
      "source": [
        "#make fake data, other two lines\n",
        "# fake_acm=[90,75,74,63,59,42,41,40,25,22,21,33,48,46,49]\n",
        "fake_m =  [9,14,26,25,26,30,28,30,49,40,35,36,37,36,24]\n",
        "fake_gp =[1,11,5,3,12,24,20,22,21,22,23,22,13,14,20]\n",
        "fake2 = pd.Series(fake_m,index=range(1999,2014))\n",
        "print(fake2)\n",
        "print(\"\")\n",
        "fake3 = pd.Series(fake_gp,index=range(1999,2014))\n",
        "fake3"
      ],
      "execution_count": 52,
      "outputs": [
        {
          "output_type": "stream",
          "text": [
            "1999     9\n",
            "2000    14\n",
            "2001    26\n",
            "2002    25\n",
            "2003    26\n",
            "2004    30\n",
            "2005    28\n",
            "2006    30\n",
            "2007    49\n",
            "2008    40\n",
            "2009    35\n",
            "2010    36\n",
            "2011    37\n",
            "2012    36\n",
            "2013    24\n",
            "dtype: int64\n",
            "\n"
          ],
          "name": "stdout"
        },
        {
          "output_type": "execute_result",
          "data": {
            "text/plain": [
              "1999     1\n",
              "2000    11\n",
              "2001     5\n",
              "2002     3\n",
              "2003    12\n",
              "2004    24\n",
              "2005    20\n",
              "2006    22\n",
              "2007    21\n",
              "2008    22\n",
              "2009    23\n",
              "2010    22\n",
              "2011    13\n",
              "2012    14\n",
              "2013    20\n",
              "dtype: int64"
            ]
          },
          "metadata": {
            "tags": []
          },
          "execution_count": 52
        }
      ]
    },
    {
      "cell_type": "code",
      "metadata": {
        "id": "BFw-hsNK1SL8",
        "colab_type": "code",
        "colab": {
          "base_uri": "https://localhost:8080/",
          "height": 332
        },
        "outputId": "be002469-7e40-47d0-cc76-f8bbadcb7bbb"
      },
      "source": [
        "display(example)"
      ],
      "execution_count": 42,
      "outputs": [
        {
          "output_type": "display_data",
          "data": {
            "text/html": [
              "<img src=\"https://fivethirtyeight.com/wp-content/uploads/2015/08/hickey-datalab-dailyshow.png?w=575\" width=\"400\"/>"
            ],
            "text/plain": [
              "<IPython.core.display.Image object>"
            ]
          },
          "metadata": {
            "tags": []
          }
        }
      ]
    },
    {
      "cell_type": "code",
      "metadata": {
        "id": "HsFnkCEVybnU",
        "colab_type": "code",
        "colab": {
          "base_uri": "https://localhost:8080/",
          "height": 282
        },
        "outputId": "68c3cfba-b1d1-43b6-d114-02e9f5d2f3b5"
      },
      "source": [
        "# display as a line graph, all three\n",
        "fake.plot.line(color='deepskyblue', lw=2)\n",
        "fake2.plot.line(color= 'purple', lw=2)\n",
        "fake3.plot.line(color='orangered',lw=2);\n"
      ],
      "execution_count": 54,
      "outputs": [
        {
          "output_type": "display_data",
          "data": {
            "image/png": "[encoded data removed]",
            "text/plain": [
              "<Figure size 432x288 with 1 Axes>"
            ]
          },
          "metadata": {
            "tags": []
          }
        }
      ]
    },
    {
      "cell_type": "code",
      "metadata": {
        "id": "y2YyFwAM_wSu",
        "colab_type": "code",
        "colab": {}
      },
      "source": [
        ""
      ],
      "execution_count": 0,
      "outputs": []
    },
    {
      "cell_type": "code",
      "metadata": {
        "id": "NY10f7mG_wOC",
        "colab_type": "code",
        "colab": {
          "base_uri": "https://localhost:8080/",
          "height": 332
        },
        "outputId": "fcccea44-97b6-42bc-fa67-52d1544b1d0f"
      },
      "source": [
        "display(example)"
      ],
      "execution_count": 109,
      "outputs": [
        {
          "output_type": "display_data",
          "data": {
            "text/html": [
              "<img src=\"https://fivethirtyeight.com/wp-content/uploads/2015/08/hickey-datalab-dailyshow.png?w=575\" width=\"400\"/>"
            ],
            "text/plain": [
              "<IPython.core.display.Image object>"
            ]
          },
          "metadata": {
            "tags": []
          }
        }
      ]
    },
    {
      "cell_type": "code",
      "metadata": {
        "id": "Z0aNQ_Vw_wJ2",
        "colab_type": "code",
        "colab": {
          "base_uri": "https://localhost:8080/",
          "height": 321
        },
        "outputId": "c7a492c8-dcc0-49c2-d0e8-9b793eb0b353"
      },
      "source": [
        "#try empty canvas to get labels & tick marks\n",
        "#empty canvas\n",
        "fig, ax =plt.subplots()\n",
        "fig.patch.set(facecolor='white')\n",
        "\n",
        "#titles\n",
        "ax.set_title(\"Who Got To Be On 'The Daily Show'?\", fontsize=12, x=.3, y=1.1, fontweight='bold')\n",
        "ax.text(s=\"Occupation of guests, by year\", fontsize=10, x=0, y=1.03);\n",
        "ax.text(.1,.7,s=\"Acting, Comedy & Music\", fontsize=9, fontweight='bold', color = \"deepskyblue\");\n",
        "ax.text(.5,.5,s=\"Media\", fontsize=9, fontweight='bold', color = \"purple\");\n",
        "ax.text(.7,.1,s=\"Government and Politics\", fontsize=9, fontweight='bold', color = \"orangered\");\n",
        "\n",
        "#axes labels not needed\n",
        "#tick marks and grid\n",
        "ax.set_xticklabels([0,2000,\"'04\",\"'08\",\"'12\"])\n",
        "\n",
        "ax.set_yticklabels([\"\",25, 50,75,\"100%\"]);"
      ],
      "execution_count": 121,
      "outputs": [
        {
          "output_type": "display_data",
          "data": {
            "image/png": "[encoded data removed]",
            "text/plain": [
              "<Figure size 432x288 with 1 Axes>"
            ]
          },
          "metadata": {
            "tags": []
          }
        }
      ]
    },
    {
      "cell_type": "code",
      "metadata": {
        "id": "MBKQH-i5GsdA",
        "colab_type": "code",
        "colab": {}
      },
      "source": [
        ""
      ],
      "execution_count": 0,
      "outputs": []
    },
    {
      "cell_type": "code",
      "metadata": {
        "id": "V4pPEQnWOK4V",
        "colab_type": "code",
        "outputId": "62386bf0-2913-4ec6-d9cf-e1ea5afa0711",
        "colab": {
          "base_uri": "https://localhost:8080/",
          "height": 70
        }
      },
      "source": [
        "# unzip using bash\n",
        "! unzip '/content/drive/My Drive/daily-show-guests.zip'\n",
        "\n"
      ],
      "execution_count": 122,
      "outputs": [
        {
          "output_type": "stream",
          "text": [
            "Archive:  /content/drive/My Drive/daily-show-guests.zip\n",
            "replace daily-show-guests/README.md? [y]es, [n]o, [A]ll, [N]one, [r]ename: n\n",
            "replace daily-show-guests/daily_show_guests.csv? [y]es, [n]o, [A]ll, [N]one, [r]ename: n\n"
          ],
          "name": "stdout"
        }
      ]
    },
    {
      "cell_type": "code",
      "metadata": {
        "id": "yc3XtUs0OK6x",
        "colab_type": "code",
        "outputId": "9f07ebb8-e0cc-4a1b-fa2f-054a10a2967d",
        "colab": {
          "base_uri": "https://localhost:8080/",
          "height": 223
        }
      },
      "source": [
        "url = 'daily-show-guests/daily_show_guests.csv'\n",
        "guests=pd.read_csv(url)\n",
        "guests.sample(6)"
      ],
      "execution_count": 138,
      "outputs": [
        {
          "output_type": "execute_result",
          "data": {
            "text/html": [
              "<div>\n",
              "<style scoped>\n",
              "    .dataframe tbody tr th:only-of-type {\n",
              "        vertical-align: middle;\n",
              "    }\n",
              "\n",
              "    .dataframe tbody tr th {\n",
              "        vertical-align: top;\n",
              "    }\n",
              "\n",
              "    .dataframe thead th {\n",
              "        text-align: right;\n",
              "    }\n",
              "</style>\n",
              "<table border=\"1\" class=\"dataframe\">\n",
              "  <thead>\n",
              "    <tr style=\"text-align: right;\">\n",
              "      <th></th>\n",
              "      <th>YEAR</th>\n",
              "      <th>GoogleKnowlege_Occupation</th>\n",
              "      <th>Show</th>\n",
              "      <th>Group</th>\n",
              "      <th>Raw_Guest_List</th>\n",
              "    </tr>\n",
              "  </thead>\n",
              "  <tbody>\n",
              "    <tr>\n",
              "      <th>1395</th>\n",
              "      <td>2007</td>\n",
              "      <td>comedian</td>\n",
              "      <td>6/11/07</td>\n",
              "      <td>Comedy</td>\n",
              "      <td>David Steinberg</td>\n",
              "    </tr>\n",
              "    <tr>\n",
              "      <th>1748</th>\n",
              "      <td>2009</td>\n",
              "      <td>screenwriter</td>\n",
              "      <td>7/30/09</td>\n",
              "      <td>Media</td>\n",
              "      <td>Judd Apatow</td>\n",
              "    </tr>\n",
              "    <tr>\n",
              "      <th>2513</th>\n",
              "      <td>2014</td>\n",
              "      <td>foreign policy analyst</td>\n",
              "      <td>3/6/14</td>\n",
              "      <td>Academic</td>\n",
              "      <td>Kimberly Marten</td>\n",
              "    </tr>\n",
              "    <tr>\n",
              "      <th>718</th>\n",
              "      <td>2003</td>\n",
              "      <td>stand-up comedian</td>\n",
              "      <td>3/11/03</td>\n",
              "      <td>Comedy</td>\n",
              "      <td>Colin Quinn</td>\n",
              "    </tr>\n",
              "    <tr>\n",
              "      <th>630</th>\n",
              "      <td>2002</td>\n",
              "      <td>actor</td>\n",
              "      <td>8/14/02</td>\n",
              "      <td>Acting</td>\n",
              "      <td>Kevin Nealon</td>\n",
              "    </tr>\n",
              "    <tr>\n",
              "      <th>2312</th>\n",
              "      <td>2013</td>\n",
              "      <td>businessman</td>\n",
              "      <td>12/17/13</td>\n",
              "      <td>Business</td>\n",
              "      <td>Erik Prince</td>\n",
              "    </tr>\n",
              "  </tbody>\n",
              "</table>\n",
              "</div>"
            ],
            "text/plain": [
              "      YEAR GoogleKnowlege_Occupation      Show     Group   Raw_Guest_List\n",
              "1395  2007                  comedian   6/11/07    Comedy  David Steinberg\n",
              "1748  2009              screenwriter   7/30/09     Media      Judd Apatow\n",
              "2513  2014    foreign policy analyst    3/6/14  Academic  Kimberly Marten\n",
              "718   2003         stand-up comedian   3/11/03    Comedy      Colin Quinn\n",
              "630   2002                     actor   8/14/02    Acting     Kevin Nealon\n",
              "2312  2013               businessman  12/17/13  Business      Erik Prince"
            ]
          },
          "metadata": {
            "tags": []
          },
          "execution_count": 138
        }
      ]
    },
    {
      "cell_type": "code",
      "metadata": {
        "id": "Y3z_uUcjGs2T",
        "colab_type": "code",
        "colab": {
          "base_uri": "https://localhost:8080/",
          "height": 337
        },
        "outputId": "e27ad54f-3d66-44ff-c7dc-76f8e3c5836c"
      },
      "source": [
        "guests[\"Group\"].value_counts()"
      ],
      "execution_count": 139,
      "outputs": [
        {
          "output_type": "execute_result",
          "data": {
            "text/plain": [
              "Acting            930\n",
              "Media             751\n",
              "Politician        308\n",
              "Comedy            150\n",
              "Musician          123\n",
              "Academic          103\n",
              "Athletics          52\n",
              "Misc               45\n",
              "Government         40\n",
              "Political Aide     36\n",
              "Science            28\n",
              "Business           25\n",
              "Advocacy           24\n",
              "Consultant         18\n",
              "Military           16\n",
              "Clergy              8\n",
              "media               5\n",
              "Name: Group, dtype: int64"
            ]
          },
          "metadata": {
            "tags": []
          },
          "execution_count": 139
        }
      ]
    },
    {
      "cell_type": "code",
      "metadata": {
        "id": "zFstmVDU6D0L",
        "colab_type": "code",
        "colab": {
          "base_uri": "https://localhost:8080/",
          "height": 487
        },
        "outputId": "52074959-6028-4b4c-9008-fb3c35de6b31"
      },
      "source": [
        "#narrow down to catagories on graph\n",
        "guests['Group_Short']='Other'\n",
        "guests[['Group','Group_Short']].sample(15)\n"
      ],
      "execution_count": 140,
      "outputs": [
        {
          "output_type": "execute_result",
          "data": {
            "text/html": [
              "<div>\n",
              "<style scoped>\n",
              "    .dataframe tbody tr th:only-of-type {\n",
              "        vertical-align: middle;\n",
              "    }\n",
              "\n",
              "    .dataframe tbody tr th {\n",
              "        vertical-align: top;\n",
              "    }\n",
              "\n",
              "    .dataframe thead th {\n",
              "        text-align: right;\n",
              "    }\n",
              "</style>\n",
              "<table border=\"1\" class=\"dataframe\">\n",
              "  <thead>\n",
              "    <tr style=\"text-align: right;\">\n",
              "      <th></th>\n",
              "      <th>Group</th>\n",
              "      <th>Group_Short</th>\n",
              "    </tr>\n",
              "  </thead>\n",
              "  <tbody>\n",
              "    <tr>\n",
              "      <th>1976</th>\n",
              "      <td>Acting</td>\n",
              "      <td>Other</td>\n",
              "    </tr>\n",
              "    <tr>\n",
              "      <th>258</th>\n",
              "      <td>Acting</td>\n",
              "      <td>Other</td>\n",
              "    </tr>\n",
              "    <tr>\n",
              "      <th>1494</th>\n",
              "      <td>Comedy</td>\n",
              "      <td>Other</td>\n",
              "    </tr>\n",
              "    <tr>\n",
              "      <th>413</th>\n",
              "      <td>Media</td>\n",
              "      <td>Other</td>\n",
              "    </tr>\n",
              "    <tr>\n",
              "      <th>868</th>\n",
              "      <td>Comedy</td>\n",
              "      <td>Other</td>\n",
              "    </tr>\n",
              "    <tr>\n",
              "      <th>644</th>\n",
              "      <td>Acting</td>\n",
              "      <td>Other</td>\n",
              "    </tr>\n",
              "    <tr>\n",
              "      <th>245</th>\n",
              "      <td>Musician</td>\n",
              "      <td>Other</td>\n",
              "    </tr>\n",
              "    <tr>\n",
              "      <th>2349</th>\n",
              "      <td>Acting</td>\n",
              "      <td>Other</td>\n",
              "    </tr>\n",
              "    <tr>\n",
              "      <th>1760</th>\n",
              "      <td>Acting</td>\n",
              "      <td>Other</td>\n",
              "    </tr>\n",
              "    <tr>\n",
              "      <th>668</th>\n",
              "      <td>Government</td>\n",
              "      <td>Other</td>\n",
              "    </tr>\n",
              "    <tr>\n",
              "      <th>1237</th>\n",
              "      <td>Media</td>\n",
              "      <td>Other</td>\n",
              "    </tr>\n",
              "    <tr>\n",
              "      <th>2035</th>\n",
              "      <td>Media</td>\n",
              "      <td>Other</td>\n",
              "    </tr>\n",
              "    <tr>\n",
              "      <th>1542</th>\n",
              "      <td>Media</td>\n",
              "      <td>Other</td>\n",
              "    </tr>\n",
              "    <tr>\n",
              "      <th>483</th>\n",
              "      <td>Comedy</td>\n",
              "      <td>Other</td>\n",
              "    </tr>\n",
              "    <tr>\n",
              "      <th>1206</th>\n",
              "      <td>Media</td>\n",
              "      <td>Other</td>\n",
              "    </tr>\n",
              "  </tbody>\n",
              "</table>\n",
              "</div>"
            ],
            "text/plain": [
              "           Group Group_Short\n",
              "1976      Acting       Other\n",
              "258       Acting       Other\n",
              "1494      Comedy       Other\n",
              "413        Media       Other\n",
              "868       Comedy       Other\n",
              "644       Acting       Other\n",
              "245     Musician       Other\n",
              "2349      Acting       Other\n",
              "1760      Acting       Other\n",
              "668   Government       Other\n",
              "1237       Media       Other\n",
              "2035       Media       Other\n",
              "1542       Media       Other\n",
              "483       Comedy       Other\n",
              "1206       Media       Other"
            ]
          },
          "metadata": {
            "tags": []
          },
          "execution_count": 140
        }
      ]
    },
    {
      "cell_type": "code",
      "metadata": {
        "id": "1JnLfqyz-ZOF",
        "colab_type": "code",
        "colab": {
          "base_uri": "https://localhost:8080/",
          "height": 340
        },
        "outputId": "2b15c8ab-c6bc-420e-ba65-77c7aaaa6fb3"
      },
      "source": [
        "\n",
        "\"\"\"\n",
        "Acting            930\n",
        "Media             751\n",
        "Politician        308\n",
        "Comedy            150\n",
        "Musician          123\n",
        "Academic          103\n",
        "Athletics          52\n",
        "Misc               45\n",
        "Government         40\n",
        "Political Aide     36\n",
        "Science            28\n",
        "Business           25\n",
        "Advocacy           24\n",
        "Consultant         18\n",
        "Military           16\n",
        "Clergy              8\n",
        "media               5\n",
        "\"\"\"\n",
        "\n",
        "#Pick relevant labels\n",
        "guests.loc[guests['Group'] == 'Media','Group_Short'] = 'Media'\n",
        "guests.loc[guests['Group'] == 'media','Group_Short'] = 'Media'\n",
        "guests.loc[guests['Group'] == 'Acting','Group_Short'] = 'ACM'\n",
        "guests.loc[guests['Group'] == 'Comedy','Group_Short'] = 'ACM'\n",
        "guests.loc[guests['Group'] == 'Musician','Group_Short'] = 'ACM'\n",
        "guests.loc[guests['Group'] == 'Politician','Group_Short'] = 'GaP'\n",
        "guests.loc[guests['Group'] == 'Government','Group_Short'] = 'GaP'\n",
        "guests.loc[guests['Group'] == 'Political Aide','Group_Short'] = 'GaP'\n",
        "guests[['Group_Short', 'Group']].sample(10)\n"
      ],
      "execution_count": 141,
      "outputs": [
        {
          "output_type": "execute_result",
          "data": {
            "text/html": [
              "<div>\n",
              "<style scoped>\n",
              "    .dataframe tbody tr th:only-of-type {\n",
              "        vertical-align: middle;\n",
              "    }\n",
              "\n",
              "    .dataframe tbody tr th {\n",
              "        vertical-align: top;\n",
              "    }\n",
              "\n",
              "    .dataframe thead th {\n",
              "        text-align: right;\n",
              "    }\n",
              "</style>\n",
              "<table border=\"1\" class=\"dataframe\">\n",
              "  <thead>\n",
              "    <tr style=\"text-align: right;\">\n",
              "      <th></th>\n",
              "      <th>Group_Short</th>\n",
              "      <th>Group</th>\n",
              "    </tr>\n",
              "  </thead>\n",
              "  <tbody>\n",
              "    <tr>\n",
              "      <th>2474</th>\n",
              "      <td>Other</td>\n",
              "      <td>Misc</td>\n",
              "    </tr>\n",
              "    <tr>\n",
              "      <th>1799</th>\n",
              "      <td>Media</td>\n",
              "      <td>Media</td>\n",
              "    </tr>\n",
              "    <tr>\n",
              "      <th>1611</th>\n",
              "      <td>Media</td>\n",
              "      <td>Media</td>\n",
              "    </tr>\n",
              "    <tr>\n",
              "      <th>511</th>\n",
              "      <td>ACM</td>\n",
              "      <td>Comedy</td>\n",
              "    </tr>\n",
              "    <tr>\n",
              "      <th>2522</th>\n",
              "      <td>Media</td>\n",
              "      <td>Media</td>\n",
              "    </tr>\n",
              "    <tr>\n",
              "      <th>319</th>\n",
              "      <td>Media</td>\n",
              "      <td>Media</td>\n",
              "    </tr>\n",
              "    <tr>\n",
              "      <th>506</th>\n",
              "      <td>ACM</td>\n",
              "      <td>Acting</td>\n",
              "    </tr>\n",
              "    <tr>\n",
              "      <th>268</th>\n",
              "      <td>ACM</td>\n",
              "      <td>Acting</td>\n",
              "    </tr>\n",
              "    <tr>\n",
              "      <th>587</th>\n",
              "      <td>ACM</td>\n",
              "      <td>Musician</td>\n",
              "    </tr>\n",
              "    <tr>\n",
              "      <th>2426</th>\n",
              "      <td>Media</td>\n",
              "      <td>Media</td>\n",
              "    </tr>\n",
              "  </tbody>\n",
              "</table>\n",
              "</div>"
            ],
            "text/plain": [
              "     Group_Short     Group\n",
              "2474       Other      Misc\n",
              "1799       Media     Media\n",
              "1611       Media     Media\n",
              "511          ACM    Comedy\n",
              "2522       Media     Media\n",
              "319        Media     Media\n",
              "506          ACM    Acting\n",
              "268          ACM    Acting\n",
              "587          ACM  Musician\n",
              "2426       Media     Media"
            ]
          },
          "metadata": {
            "tags": []
          },
          "execution_count": 141
        }
      ]
    },
    {
      "cell_type": "code",
      "metadata": {
        "id": "t4AayggM6D4h",
        "colab_type": "code",
        "colab": {
          "base_uri": "https://localhost:8080/",
          "height": 106
        },
        "outputId": "46a2f977-ff4f-486e-fee3-3d8dea7f6494"
      },
      "source": [
        "guests[\"Group_Short\"].value_counts()"
      ],
      "execution_count": 142,
      "outputs": [
        {
          "output_type": "execute_result",
          "data": {
            "text/plain": [
              "ACM      1203\n",
              "Media     756\n",
              "GaP       384\n",
              "Other     350\n",
              "Name: Group_Short, dtype: int64"
            ]
          },
          "metadata": {
            "tags": []
          },
          "execution_count": 142
        }
      ]
    },
    {
      "cell_type": "code",
      "metadata": {
        "id": "qGsyY5My6D8q",
        "colab_type": "code",
        "colab": {}
      },
      "source": [
        ""
      ],
      "execution_count": 0,
      "outputs": []
    },
    {
      "cell_type": "markdown",
      "metadata": {
        "id": "0wSrBzmJyWaV",
        "colab_type": "text"
      },
      "source": [
        "# STRETCH OPTIONS\n",
        "\n",
        "### 1) Reproduce one of the following using the matplotlib or seaborn libraries:\n",
        "\n",
        "- [thanksgiving-2015](https://fivethirtyeight.com/features/heres-what-your-part-of-america-eats-on-thanksgiving/) \n",
        "- [candy-power-ranking](https://fivethirtyeight.com/features/the-ultimate-halloween-candy-power-ranking/) \n",
        "- or another example of your choice!\n",
        "\n",
        "### 2) Make more charts!\n",
        "\n",
        "Choose a chart you want to make, from [Visual Vocabulary - Vega Edition](http://ft.com/vocabulary).\n",
        "\n",
        "Find the chart in an example gallery of a Python data visualization library:\n",
        "- [Seaborn](http://seaborn.pydata.org/examples/index.html)\n",
        "- [Altair](https://altair-viz.github.io/gallery/index.html)\n",
        "- [Matplotlib](https://matplotlib.org/gallery.html)\n",
        "- [Pandas](https://pandas.pydata.org/pandas-docs/stable/visualization.html)\n",
        "\n",
        "Reproduce the chart. [Optionally, try the \"Ben Franklin Method.\"](https://docs.google.com/document/d/1ubOw9B3Hfip27hF2ZFnW3a3z9xAgrUDRReOEo-FHCVs/edit) If you want, experiment and make changes.\n",
        "\n",
        "Take notes. Consider sharing your work with your cohort!"
      ]
    },
    {
      "cell_type": "code",
      "metadata": {
        "id": "dRJkKftiy5BJ",
        "colab_type": "code",
        "colab": {}
      },
      "source": [
        "# More Work Here"
      ],
      "execution_count": 0,
      "outputs": []
    }
  ]
}